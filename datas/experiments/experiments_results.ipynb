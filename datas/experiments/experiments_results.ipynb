{
 "cells": [
  {
   "cell_type": "code",
   "execution_count": 2,
   "metadata": {},
   "outputs": [],
   "source": [
    "import os\n",
    "\n",
    "import pandas as pd\n",
    "import numpy as np\n",
    "import matplotlib.pyplot as plt"
   ]
  },
  {
   "cell_type": "code",
   "execution_count": 3,
   "metadata": {},
   "outputs": [],
   "source": [
    "errors = (\n",
    "    \"face not recognized\",\n",
    "    \"RuntimeError\",\n",
    "    \"TypeError\",\n",
    "    \n",
    ")"
   ]
  },
  {
   "cell_type": "code",
   "execution_count": 200,
   "metadata": {},
   "outputs": [],
   "source": [
    "class metrics():\n",
    "    \n",
    "    def __init__(\n",
    "        self,\n",
    "        df: pd.DataFrame, \n",
    "        distance_column_name: str, \n",
    "        target_column_name: str,\n",
    "        threshold: float\n",
    "    ):\n",
    "        self.pred = np.where(df[distance_column_name] >= threshold, 1, 0)\n",
    "        self.target = df[target_column_name]\n",
    "    \n",
    "    def tp_fp_tn_fn(self):\n",
    "        tp = sum(\n",
    "            np.where(\n",
    "                np.logical_and(self.pred == 1, self.target == 1),\n",
    "                1,\n",
    "                0\n",
    "            )\n",
    "        )\n",
    "        tn = sum(\n",
    "            np.where(\n",
    "                np.logical_and(self.pred == 0, self.target == 0),\n",
    "                1,\n",
    "                0\n",
    "            )\n",
    "        )\n",
    "        fp = sum(\n",
    "            np.where(\n",
    "                np.logical_and(self.pred == 1, self.target == 0),\n",
    "                1,\n",
    "                0\n",
    "            )\n",
    "        )\n",
    "        fn = sum(\n",
    "            np.where(\n",
    "                np.logical_and(self.pred == 0, self.target == 1),\n",
    "                1,\n",
    "                0\n",
    "            )\n",
    "        )\n",
    "        \n",
    "        return (tp, fp, tn, fn)\n",
    "    \n",
    "    def roc(self):\n",
    "        tp, fp, tn, fn = self.tp_fp_tn_fn()\n",
    "        \n",
    "        try:\n",
    "            tpr = tp/(tp+fn)\n",
    "        except ZeroDivisionError:\n",
    "            tpr = 0\n",
    "        try:\n",
    "            tnr = tn/(tn+fp)\n",
    "        except ZeroDivisionError:\n",
    "            tnr = 0\n",
    "\n",
    "        return tpr, tnr\n",
    "    \n",
    "    def precision_recall(self):\n",
    "        tp, fp, tn, fn = self.tp_fp_tn_fn()\n",
    "        \n",
    "        try:\n",
    "            precision = tp/(tp+fp)\n",
    "        except ZeroDivisionError:\n",
    "            precision = 0\n",
    "        try:\n",
    "            recall = tp/(tp+fn)\n",
    "        except ZeroDivisionError:\n",
    "            recall = 0\n",
    "\n",
    "        return precision, recall\n",
    "    \n",
    "    def accuracy(self):\n",
    "        tp, fp, tn, fn = self.tp_fp_tn_fn()\n",
    "\n",
    "        accuracy = (tp + tn)/(tp+fp+tn+fn)\n",
    "\n",
    "        return accuracy\n",
    "\n",
    "    def f1(self):\n",
    "        precision, recall = self.precision_recall()\n",
    "\n",
    "        f1 = 2 * (precision * recall) / (precision + recall)\n",
    "\n",
    "        return f1 \n",
    "    "
   ]
  },
  {
   "attachments": {},
   "cell_type": "markdown",
   "metadata": {},
   "source": [
    "# Ноутбук с экспериментами\n",
    "\n",
    "## В этом ноутбуке будет описываться ход экспериментов и результаты\n",
    "\n",
    "Данные были взяты из датасета [VGG-Face2](https://paperswithcode.com/paper/vggface2-a-dataset-for-recognising-faces)\n",
    "\n",
    "Батч взятый из датасета включал 120 персон и ~43 000 фото\n",
    "\n",
    "Фотографии и субъекты выбирались случайно с помощью np.random.choice "
   ]
  },
  {
   "attachments": {},
   "cell_type": "markdown",
   "metadata": {},
   "source": [
    "-----"
   ]
  },
  {
   "attachments": {},
   "cell_type": "markdown",
   "metadata": {},
   "source": [
    "### res_net - для работы с лицами\n",
    "### mtcnn для вырезания лиц"
   ]
  },
  {
   "attachments": {},
   "cell_type": "markdown",
   "metadata": {},
   "source": [
    "#### Experiment 1\n",
    "\n",
    "Стандартные гиперпараметры"
   ]
  },
  {
   "cell_type": "code",
   "execution_count": 201,
   "metadata": {},
   "outputs": [
    {
     "data": {
      "text/plain": [
       "923"
      ]
     },
     "execution_count": 201,
     "metadata": {},
     "output_type": "execute_result"
    }
   ],
   "source": [
    "data = pd.read_pickle(\"./res_net_mtcnn_vgg__exp1.pkl\")\n",
    "df = pd.DataFrame(\n",
    "    data=data\n",
    ").T\n",
    "# выбираю неошибочные значения\n",
    "df = df.loc[~df.results.isin(errors)].copy()\n",
    "df.shape\n",
    "df.head()\n",
    "df[\"euclidean_distance\"] = df.results.apply(lambda x: x['euclidean'])\n",
    "df.head()\n",
    "df.sort_values('euclidean_distance', inplace=True)\n",
    "df.froad.sum()"
   ]
  },
  {
   "cell_type": "code",
   "execution_count": 202,
   "metadata": {},
   "outputs": [],
   "source": [
    "tpr_ = []\n",
    "fpr_ = []\n",
    "for threshold in np.arange(start=0, stop=max(df[\"euclidean_distance\"]), step=0.001):\n",
    "    metric = metrics(\n",
    "        df, \n",
    "        'euclidean_distance', \n",
    "        'froad', \n",
    "        threshold\n",
    "    )\n",
    "    tpr, fpr = metric.roc()\n",
    "    tpr_.append(tpr)\n",
    "    fpr_.append(fpr)"
   ]
  },
  {
   "cell_type": "code",
   "execution_count": 203,
   "metadata": {},
   "outputs": [
    {
     "data": {
      "image/png": "[encoded data removed]",
      "text/plain": [
       "<Figure size 640x480 with 1 Axes>"
      ]
     },
     "metadata": {},
     "output_type": "display_data"
    }
   ],
   "source": [
    "fig, ax = plt.subplots()\n",
    "ax = plt.plot(fpr_, tpr_)\n",
    "plt.ylabel(\"tpr\")\n",
    "plt.xlabel(\"fpr\")\n",
    "plt.savefig(\"./plots/precision_recall_experiment1.png\")\n"
   ]
  },
  {
   "cell_type": "code",
   "execution_count": 204,
   "metadata": {},
   "outputs": [
    {
     "data": {
      "text/plain": [
       "Text(0.5, 0, 'threshold')"
      ]
     },
     "execution_count": 204,
     "metadata": {},
     "output_type": "execute_result"
    },
    {
     "data": {
      "image/png": "[encoded data removed]",
      "text/plain": [
       "<Figure size 640x480 with 1 Axes>"
      ]
     },
     "metadata": {},
     "output_type": "display_data"
    }
   ],
   "source": [
    "f1 = []\n",
    "for threshold in list(df[\"euclidean_distance\"].unique()):\n",
    "    metric = metrics(\n",
    "        df, \n",
    "        'euclidean_distance', \n",
    "        'froad', \n",
    "        threshold\n",
    "    )\n",
    "    acc = metric.f1()\n",
    "    f1.append(acc)\n",
    "fig, ax = plt.subplots()\n",
    "ax = plt.plot(\n",
    "    list(df[\"euclidean_distance\"].unique()), \n",
    "    f1\n",
    ")\n",
    "plt.ylabel(\"f1\")\n",
    "plt.xlabel(\"threshold\")\n",
    "# plt.savefig(\"./plots/f1_metric_experiment1.png\")"
   ]
  },
  {
   "attachments": {},
   "cell_type": "markdown",
   "metadata": {},
   "source": [
    "### В общем и целом, можно сказать, что результаты ни к чему не привели. Скорее всего проблема в выборке фотографий, которые могут быть очень плохие. Возможно, стоит руками выбрать фотографии для следующего теста т.к. фотографии могут быть очень плохого качества."
   ]
  },
  {
   "attachments": {},
   "cell_type": "markdown",
   "metadata": {},
   "source": [
    "----"
   ]
  },
  {
   "attachments": {},
   "cell_type": "markdown",
   "metadata": {},
   "source": [
    "## Эксперимент 2 \n",
    "### [face recognition](https://pypi.org/project/face-recognition/)"
   ]
  },
  {
   "cell_type": "code",
   "execution_count": 205,
   "metadata": {},
   "outputs": [],
   "source": [
    "data = pd.read_pickle(\"./face_recognition__exp1.pkl\")\n",
    "df = pd.DataFrame(\n",
    "    data=data\n",
    ").T\n",
    "# выбираю неошибочные значения\n",
    "df = df.loc[~df.results.isin(errors)].copy()\n",
    "df[\"euclidean_distance\"] = df.results.apply(lambda x: x['euclidean'])\n",
    "df.sort_values('euclidean_distance', inplace=True)\n"
   ]
  },
  {
   "cell_type": "code",
   "execution_count": 206,
   "metadata": {},
   "outputs": [
    {
     "name": "stdout",
     "output_type": "stream",
     "text": [
      "(9544, 7)\n",
      "3552\n"
     ]
    },
    {
     "data": {
      "text/html": [
       "<div>\n",
       "<style scoped>\n",
       "    .dataframe tbody tr th:only-of-type {\n",
       "        vertical-align: middle;\n",
       "    }\n",
       "\n",
       "    .dataframe tbody tr th {\n",
       "        vertical-align: top;\n",
       "    }\n",
       "\n",
       "    .dataframe thead th {\n",
       "        text-align: right;\n",
       "    }\n",
       "</style>\n",
       "<table border=\"1\" class=\"dataframe\">\n",
       "  <thead>\n",
       "    <tr style=\"text-align: right;\">\n",
       "      <th></th>\n",
       "      <th>person_1</th>\n",
       "      <th>person_1_photo</th>\n",
       "      <th>person_2</th>\n",
       "      <th>person_2_photo</th>\n",
       "      <th>results</th>\n",
       "      <th>froad</th>\n",
       "      <th>euclidean_distance</th>\n",
       "    </tr>\n",
       "  </thead>\n",
       "  <tbody>\n",
       "    <tr>\n",
       "      <th>7017</th>\n",
       "      <td>n000057</td>\n",
       "      <td>0294_01.jpg</td>\n",
       "      <td>n000057</td>\n",
       "      <td>0139_01.jpg</td>\n",
       "      <td>{'euclidean': 0.0}</td>\n",
       "      <td>0</td>\n",
       "      <td>0.0</td>\n",
       "    </tr>\n",
       "    <tr>\n",
       "      <th>2275</th>\n",
       "      <td>n000091</td>\n",
       "      <td>0272_03.jpg</td>\n",
       "      <td>n000091</td>\n",
       "      <td>0107_01.jpg</td>\n",
       "      <td>{'euclidean': 0.0}</td>\n",
       "      <td>0</td>\n",
       "      <td>0.0</td>\n",
       "    </tr>\n",
       "    <tr>\n",
       "      <th>6861</th>\n",
       "      <td>n000026</td>\n",
       "      <td>0273_01.jpg</td>\n",
       "      <td>n000023</td>\n",
       "      <td>0398_02.jpg</td>\n",
       "      <td>{'euclidean': 0.0}</td>\n",
       "      <td>1</td>\n",
       "      <td>0.0</td>\n",
       "    </tr>\n",
       "    <tr>\n",
       "      <th>6854</th>\n",
       "      <td>n000006</td>\n",
       "      <td>0368_02.jpg</td>\n",
       "      <td>n000006</td>\n",
       "      <td>0004_05.jpg</td>\n",
       "      <td>{'euclidean': 0.0}</td>\n",
       "      <td>0</td>\n",
       "      <td>0.0</td>\n",
       "    </tr>\n",
       "    <tr>\n",
       "      <th>6844</th>\n",
       "      <td>n000006</td>\n",
       "      <td>0004_05.jpg</td>\n",
       "      <td>n000006</td>\n",
       "      <td>0107_01.jpg</td>\n",
       "      <td>{'euclidean': 0.0}</td>\n",
       "      <td>0</td>\n",
       "      <td>0.0</td>\n",
       "    </tr>\n",
       "  </tbody>\n",
       "</table>\n",
       "</div>"
      ],
      "text/plain": [
       "     person_1 person_1_photo person_2 person_2_photo             results  \\\n",
       "7017  n000057    0294_01.jpg  n000057    0139_01.jpg  {'euclidean': 0.0}   \n",
       "2275  n000091    0272_03.jpg  n000091    0107_01.jpg  {'euclidean': 0.0}   \n",
       "6861  n000026    0273_01.jpg  n000023    0398_02.jpg  {'euclidean': 0.0}   \n",
       "6854  n000006    0368_02.jpg  n000006    0004_05.jpg  {'euclidean': 0.0}   \n",
       "6844  n000006    0004_05.jpg  n000006    0107_01.jpg  {'euclidean': 0.0}   \n",
       "\n",
       "     froad  euclidean_distance  \n",
       "7017     0                 0.0  \n",
       "2275     0                 0.0  \n",
       "6861     1                 0.0  \n",
       "6854     0                 0.0  \n",
       "6844     0                 0.0  "
      ]
     },
     "execution_count": 206,
     "metadata": {},
     "output_type": "execute_result"
    }
   ],
   "source": [
    "print(df.shape)\n",
    "print(df.froad.sum())\n",
    "df.head()"
   ]
  },
  {
   "cell_type": "code",
   "execution_count": 232,
   "metadata": {},
   "outputs": [],
   "source": [
    "tpr = []\n",
    "fpr = []\n",
    "for threshold in np.arange(start=0, stop=max(df.euclidean_distance), step=0.001):\n",
    "    metric = metrics(\n",
    "        df, \n",
    "        'euclidean_distance', \n",
    "        'froad', \n",
    "        threshold\n",
    "    )\n",
    "    tpr_, fpr_ = metric.roc()\n",
    "    tpr.append(tpr_)\n",
    "    fpr.append(fpr_)"
   ]
  },
  {
   "cell_type": "code",
   "execution_count": 233,
   "metadata": {},
   "outputs": [
    {
     "data": {
      "image/png": "[encoded data removed]",
      "text/plain": [
       "<Figure size 640x480 with 1 Axes>"
      ]
     },
     "metadata": {},
     "output_type": "display_data"
    }
   ],
   "source": [
    "fig, ax = plt.subplots()\n",
    "ax = plt.plot(fpr, tpr)\n",
    "plt.ylabel(\"tpr\")\n",
    "plt.xlabel(\"fpr\")\n",
    "plt.savefig(\"./plots/precision_recall_experiment2.png\")"
   ]
  },
  {
   "cell_type": "code",
   "execution_count": 227,
   "metadata": {},
   "outputs": [],
   "source": [
    "f1 = []\n",
    "for threshold in np.arange(start=0, stop=max(df.euclidean_distance), step=0.001):\n",
    "    metric = metrics(\n",
    "        df, \n",
    "        'euclidean_distance', \n",
    "        'froad', \n",
    "        threshold\n",
    "    )\n",
    "    acc = metric.f1()\n",
    "    f1.append(acc)"
   ]
  },
  {
   "cell_type": "code",
   "execution_count": 228,
   "metadata": {},
   "outputs": [
    {
     "data": {
      "image/png": "[encoded data removed]",
      "text/plain": [
       "<Figure size 640x480 with 1 Axes>"
      ]
     },
     "metadata": {},
     "output_type": "display_data"
    }
   ],
   "source": [
    "fig, ax = plt.subplots()\n",
    "threshold = list(\n",
    "    np.arange(start=0, \n",
    "    stop=max(df.euclidean_distance), \n",
    "    step=0.001)\n",
    ")\n",
    "ax = plt.plot(\n",
    "    threshold, \n",
    "    f1,\n",
    "    label = \"f1\"\n",
    ")\n",
    "ax = plt.axvline(\n",
    "    threshold[np.argmax(f1)], \n",
    "    color = 'r', \n",
    "    label = f\"{round(threshold[np.argmax(f1)], 3)} - max f1\",\n",
    ")\n",
    "plt.legend()\n",
    "plt.ylabel(\"f1\")\n",
    "plt.xlabel(\"threshold\")\n",
    "plt.savefig(\"./plots/f1_metric_experiment2.png\")"
   ]
  },
  {
   "cell_type": "code",
   "execution_count": null,
   "metadata": {},
   "outputs": [],
   "source": []
  }
 ],
 "metadata": {
  "kernelspec": {
   "display_name": "Python 3",
   "language": "python",
   "name": "python3"
  },
  "language_info": {
   "codemirror_mode": {
    "name": "ipython",
    "version": 3
   },
   "file_extension": ".py",
   "mimetype": "text/x-python",
   "name": "python",
   "nbconvert_exporter": "python",
   "pygments_lexer": "ipython3",
   "version": "3.8.16"
  },
  "orig_nbformat": 4,
  "vscode": {
   "interpreter": {
    "hash": "df0893f56f349688326838aaeea0de204df53a132722cbd565e54b24a8fec5f6"
   }
  }
 },
 "nbformat": 4,
 "nbformat_minor": 2
}
