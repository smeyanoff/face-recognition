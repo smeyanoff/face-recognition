{
 "cells": [
  {
   "cell_type": "code",
   "execution_count": 1,
   "metadata": {},
   "outputs": [],
   "source": [
    "import os\n",
    "\n",
    "import pandas as pd\n",
    "import numpy as np\n",
    "import matplotlib.pyplot as plt"
   ]
  },
  {
   "cell_type": "code",
   "execution_count": 2,
   "metadata": {},
   "outputs": [],
   "source": [
    "errors = (\n",
    "    \"face not recognized\",\n",
    "    \"RuntimeError\",\n",
    "    \"TypeError\",\n",
    "    \n",
    ")"
   ]
  },
  {
   "cell_type": "code",
   "execution_count": 3,
   "metadata": {},
   "outputs": [],
   "source": [
    "class metrics():\n",
    "    \n",
    "    def __init__(\n",
    "        self,\n",
    "        df: pd.DataFrame, \n",
    "        distance_column_name: str, \n",
    "        target_column_name: str,\n",
    "        threshold: float\n",
    "    ):\n",
    "        self.values = np.array([\n",
    "            1 if x >= threshold else 0 for x in df[distance_column_name]\n",
    "        ])\n",
    "        self.target = df[target_column_name]\n",
    "\n",
    "        self.p_mask = self.target == 1\n",
    "        self.n_mask = self.target == 0\n",
    "    \n",
    "    def tp_fp_tn_fn(self):\n",
    "        tp = sum(                               #true_positive\n",
    "            self.target[self.p_mask] == self.values[self.p_mask]\n",
    "        )\n",
    "\n",
    "        fp = sum(                               #false_positive\n",
    "            self.target[self.p_mask] != self.values[self.p_mask]\n",
    "        )\n",
    "\n",
    "        tn = sum(                               #true_negative\n",
    "            self.target[self.n_mask] == self.values[self.n_mask]\n",
    "        )\n",
    "\n",
    "        fn = sum(                               #false_negative\n",
    "            self.target[self.n_mask] != self.values[self.n_mask]\n",
    "        )\n",
    "        return (tp, fp, tn, fn)\n",
    "    \n",
    "    def precision_recall(self):\n",
    "        tp, fp, tn, fn = self.tp_fp_tn_fn()\n",
    "\n",
    "        precision = tp/(tp+fp)\n",
    "        recall = tp/(tp+fn)\n",
    "\n",
    "        return precision, recall\n",
    "    \n",
    "    def accuracy(self):\n",
    "        tp, fp, tn, fn = self.tp_fp_tn_fn()\n",
    "\n",
    "        accuracy = (tp + tn)/(tp+fp+tn+fn)\n",
    "\n",
    "        return accuracy\n",
    "\n",
    "    def f1(self):\n",
    "        precision, recall = self.precision_recall()\n",
    "\n",
    "        f1 = 2 * (precision * recall) / (precision + recall)\n",
    "\n",
    "        return f1 "
   ]
  },
  {
   "attachments": {},
   "cell_type": "markdown",
   "metadata": {},
   "source": [
    "# Ноутбук с экспериментами\n",
    "\n",
    "## В этом ноутбуке будет описываться ход экспериментов и результаты\n",
    "\n",
    "Данные были взяты из датасета [VGG-Face2](https://paperswithcode.com/paper/vggface2-a-dataset-for-recognising-faces)\n",
    "\n",
    "Батч взятый из датасета включал 120 персон и ~43 000 фото\n",
    "\n",
    "Фотографии и субъекты выбирались случайно с помощью np.random.choice "
   ]
  },
  {
   "attachments": {},
   "cell_type": "markdown",
   "metadata": {},
   "source": [
    "-----"
   ]
  },
  {
   "attachments": {},
   "cell_type": "markdown",
   "metadata": {},
   "source": [
    "### res_net - для работы с лицами\n",
    "### mtcnn для вырезания лиц"
   ]
  },
  {
   "attachments": {},
   "cell_type": "markdown",
   "metadata": {},
   "source": [
    "#### Experiment 1\n",
    "\n",
    "Стандартные гиперпараметры"
   ]
  },
  {
   "cell_type": "code",
   "execution_count": 4,
   "metadata": {},
   "outputs": [],
   "source": [
    "data = pd.read_pickle(\"./res_net_mtcnn_vgg__exp1.pkl\")"
   ]
  },
  {
   "cell_type": "code",
   "execution_count": 5,
   "metadata": {},
   "outputs": [],
   "source": [
    "df = pd.DataFrame(\n",
    "    data=data\n",
    ").T"
   ]
  },
  {
   "cell_type": "code",
   "execution_count": 6,
   "metadata": {},
   "outputs": [],
   "source": [
    "# выбираю неошибочные значения\n",
    "df = df.loc[~df.results.isin(errors)].copy()"
   ]
  },
  {
   "cell_type": "code",
   "execution_count": 7,
   "metadata": {},
   "outputs": [
    {
     "data": {
      "text/plain": [
       "(2514, 6)"
      ]
     },
     "execution_count": 7,
     "metadata": {},
     "output_type": "execute_result"
    }
   ],
   "source": [
    "df.shape"
   ]
  },
  {
   "cell_type": "code",
   "execution_count": 8,
   "metadata": {},
   "outputs": [
    {
     "data": {
      "text/html": [
       "<div>\n",
       "<style scoped>\n",
       "    .dataframe tbody tr th:only-of-type {\n",
       "        vertical-align: middle;\n",
       "    }\n",
       "\n",
       "    .dataframe tbody tr th {\n",
       "        vertical-align: top;\n",
       "    }\n",
       "\n",
       "    .dataframe thead th {\n",
       "        text-align: right;\n",
       "    }\n",
       "</style>\n",
       "<table border=\"1\" class=\"dataframe\">\n",
       "  <thead>\n",
       "    <tr style=\"text-align: right;\">\n",
       "      <th></th>\n",
       "      <th>person_1</th>\n",
       "      <th>person_1_photo</th>\n",
       "      <th>person_2</th>\n",
       "      <th>person_2_photo</th>\n",
       "      <th>results</th>\n",
       "      <th>froad</th>\n",
       "    </tr>\n",
       "  </thead>\n",
       "  <tbody>\n",
       "    <tr>\n",
       "      <th>7</th>\n",
       "      <td>n000066</td>\n",
       "      <td>0198_01.jpg</td>\n",
       "      <td>n000132</td>\n",
       "      <td>0141_02.jpg</td>\n",
       "      <td>{'euclidean': 0.64907104}</td>\n",
       "      <td>1</td>\n",
       "    </tr>\n",
       "    <tr>\n",
       "      <th>8</th>\n",
       "      <td>n000032</td>\n",
       "      <td>0388_01.jpg</td>\n",
       "      <td>n000032</td>\n",
       "      <td>0374_01.jpg</td>\n",
       "      <td>{'euclidean': 0.8555268}</td>\n",
       "      <td>0</td>\n",
       "    </tr>\n",
       "    <tr>\n",
       "      <th>10</th>\n",
       "      <td>n000066</td>\n",
       "      <td>0355_03.jpg</td>\n",
       "      <td>n000066</td>\n",
       "      <td>0198_01.jpg</td>\n",
       "      <td>{'euclidean': 0.6932242}</td>\n",
       "      <td>0</td>\n",
       "    </tr>\n",
       "    <tr>\n",
       "      <th>12</th>\n",
       "      <td>n000130</td>\n",
       "      <td>0378_03.jpg</td>\n",
       "      <td>n000130</td>\n",
       "      <td>0093_01.jpg</td>\n",
       "      <td>{'euclidean': 0.70193166}</td>\n",
       "      <td>0</td>\n",
       "    </tr>\n",
       "    <tr>\n",
       "      <th>18</th>\n",
       "      <td>n000099</td>\n",
       "      <td>0111_03.jpg</td>\n",
       "      <td>n000099</td>\n",
       "      <td>0279_02.jpg</td>\n",
       "      <td>{'euclidean': 0.33964255}</td>\n",
       "      <td>0</td>\n",
       "    </tr>\n",
       "  </tbody>\n",
       "</table>\n",
       "</div>"
      ],
      "text/plain": [
       "   person_1 person_1_photo person_2 person_2_photo                    results  \\\n",
       "7   n000066    0198_01.jpg  n000132    0141_02.jpg  {'euclidean': 0.64907104}   \n",
       "8   n000032    0388_01.jpg  n000032    0374_01.jpg   {'euclidean': 0.8555268}   \n",
       "10  n000066    0355_03.jpg  n000066    0198_01.jpg   {'euclidean': 0.6932242}   \n",
       "12  n000130    0378_03.jpg  n000130    0093_01.jpg  {'euclidean': 0.70193166}   \n",
       "18  n000099    0111_03.jpg  n000099    0279_02.jpg  {'euclidean': 0.33964255}   \n",
       "\n",
       "   froad  \n",
       "7      1  \n",
       "8      0  \n",
       "10     0  \n",
       "12     0  \n",
       "18     0  "
      ]
     },
     "execution_count": 8,
     "metadata": {},
     "output_type": "execute_result"
    }
   ],
   "source": [
    "df.head()"
   ]
  },
  {
   "cell_type": "code",
   "execution_count": 9,
   "metadata": {},
   "outputs": [],
   "source": [
    "df[\"euclidean_distance\"] = df.results.apply(lambda x: x['euclidean'])"
   ]
  },
  {
   "cell_type": "code",
   "execution_count": 10,
   "metadata": {},
   "outputs": [
    {
     "data": {
      "text/html": [
       "<div>\n",
       "<style scoped>\n",
       "    .dataframe tbody tr th:only-of-type {\n",
       "        vertical-align: middle;\n",
       "    }\n",
       "\n",
       "    .dataframe tbody tr th {\n",
       "        vertical-align: top;\n",
       "    }\n",
       "\n",
       "    .dataframe thead th {\n",
       "        text-align: right;\n",
       "    }\n",
       "</style>\n",
       "<table border=\"1\" class=\"dataframe\">\n",
       "  <thead>\n",
       "    <tr style=\"text-align: right;\">\n",
       "      <th></th>\n",
       "      <th>person_1</th>\n",
       "      <th>person_1_photo</th>\n",
       "      <th>person_2</th>\n",
       "      <th>person_2_photo</th>\n",
       "      <th>results</th>\n",
       "      <th>froad</th>\n",
       "      <th>euclidean_distance</th>\n",
       "    </tr>\n",
       "  </thead>\n",
       "  <tbody>\n",
       "    <tr>\n",
       "      <th>7</th>\n",
       "      <td>n000066</td>\n",
       "      <td>0198_01.jpg</td>\n",
       "      <td>n000132</td>\n",
       "      <td>0141_02.jpg</td>\n",
       "      <td>{'euclidean': 0.64907104}</td>\n",
       "      <td>1</td>\n",
       "      <td>0.649071</td>\n",
       "    </tr>\n",
       "    <tr>\n",
       "      <th>8</th>\n",
       "      <td>n000032</td>\n",
       "      <td>0388_01.jpg</td>\n",
       "      <td>n000032</td>\n",
       "      <td>0374_01.jpg</td>\n",
       "      <td>{'euclidean': 0.8555268}</td>\n",
       "      <td>0</td>\n",
       "      <td>0.855527</td>\n",
       "    </tr>\n",
       "    <tr>\n",
       "      <th>10</th>\n",
       "      <td>n000066</td>\n",
       "      <td>0355_03.jpg</td>\n",
       "      <td>n000066</td>\n",
       "      <td>0198_01.jpg</td>\n",
       "      <td>{'euclidean': 0.6932242}</td>\n",
       "      <td>0</td>\n",
       "      <td>0.693224</td>\n",
       "    </tr>\n",
       "    <tr>\n",
       "      <th>12</th>\n",
       "      <td>n000130</td>\n",
       "      <td>0378_03.jpg</td>\n",
       "      <td>n000130</td>\n",
       "      <td>0093_01.jpg</td>\n",
       "      <td>{'euclidean': 0.70193166}</td>\n",
       "      <td>0</td>\n",
       "      <td>0.701932</td>\n",
       "    </tr>\n",
       "    <tr>\n",
       "      <th>18</th>\n",
       "      <td>n000099</td>\n",
       "      <td>0111_03.jpg</td>\n",
       "      <td>n000099</td>\n",
       "      <td>0279_02.jpg</td>\n",
       "      <td>{'euclidean': 0.33964255}</td>\n",
       "      <td>0</td>\n",
       "      <td>0.339643</td>\n",
       "    </tr>\n",
       "  </tbody>\n",
       "</table>\n",
       "</div>"
      ],
      "text/plain": [
       "   person_1 person_1_photo person_2 person_2_photo                    results  \\\n",
       "7   n000066    0198_01.jpg  n000132    0141_02.jpg  {'euclidean': 0.64907104}   \n",
       "8   n000032    0388_01.jpg  n000032    0374_01.jpg   {'euclidean': 0.8555268}   \n",
       "10  n000066    0355_03.jpg  n000066    0198_01.jpg   {'euclidean': 0.6932242}   \n",
       "12  n000130    0378_03.jpg  n000130    0093_01.jpg  {'euclidean': 0.70193166}   \n",
       "18  n000099    0111_03.jpg  n000099    0279_02.jpg  {'euclidean': 0.33964255}   \n",
       "\n",
       "   froad  euclidean_distance  \n",
       "7      1            0.649071  \n",
       "8      0            0.855527  \n",
       "10     0            0.693224  \n",
       "12     0            0.701932  \n",
       "18     0            0.339643  "
      ]
     },
     "execution_count": 10,
     "metadata": {},
     "output_type": "execute_result"
    }
   ],
   "source": [
    "df.head()"
   ]
  },
  {
   "cell_type": "code",
   "execution_count": 11,
   "metadata": {},
   "outputs": [],
   "source": [
    "df.sort_values('euclidean_distance', inplace=True)"
   ]
  },
  {
   "cell_type": "code",
   "execution_count": 13,
   "metadata": {},
   "outputs": [
    {
     "data": {
      "text/plain": [
       "923"
      ]
     },
     "execution_count": 13,
     "metadata": {},
     "output_type": "execute_result"
    }
   ],
   "source": [
    "df.froad.sum()"
   ]
  },
  {
   "cell_type": "code",
   "execution_count": 15,
   "metadata": {},
   "outputs": [],
   "source": [
    "prec = []\n",
    "rec = []\n",
    "for threshold in np.arange(start=0, stop=max(df.euclidean_distance), step=0.001):\n",
    "    metric = metrics(\n",
    "        df, \n",
    "        'euclidean_distance', \n",
    "        'froad', \n",
    "        threshold\n",
    "    )\n",
    "    precision, recall = metric.precision_recall()\n",
    "    prec.append(precision)\n",
    "    rec.append(recall)"
   ]
  },
  {
   "cell_type": "code",
   "execution_count": 23,
   "metadata": {},
   "outputs": [
    {
     "data": {
      "image/png": "[encoded data removed]",
      "text/plain": [
       "<Figure size 640x480 with 1 Axes>"
      ]
     },
     "metadata": {},
     "output_type": "display_data"
    }
   ],
   "source": [
    "fig, ax = plt.subplots()\n",
    "ax = plt.plot(prec, rec)\n",
    "plt.ylabel(\"precision\")\n",
    "plt.xlabel(\"recall\")\n",
    "plt.savefig(\"./plots/precision_recall_experiment1.png\")"
   ]
  },
  {
   "cell_type": "code",
   "execution_count": 17,
   "metadata": {},
   "outputs": [],
   "source": [
    "f1 = []\n",
    "for threshold in np.arange(start=0, stop=max(df.euclidean_distance), step=0.001):\n",
    "    metric = metrics(\n",
    "        df, \n",
    "        'euclidean_distance', \n",
    "        'froad', \n",
    "        threshold\n",
    "    )\n",
    "    acc = metric.f1()\n",
    "    f1.append(acc)"
   ]
  },
  {
   "cell_type": "code",
   "execution_count": 22,
   "metadata": {},
   "outputs": [
    {
     "data": {
      "image/png": "[encoded data removed]",
      "text/plain": [
       "<Figure size 640x480 with 1 Axes>"
      ]
     },
     "metadata": {},
     "output_type": "display_data"
    }
   ],
   "source": [
    "fig, ax = plt.subplots()\n",
    "ax = plt.plot(\n",
    "    np.arange(start=0, stop=max(df.euclidean_distance), step=0.001), \n",
    "    f1\n",
    ")\n",
    "plt.ylabel(\"f1\")\n",
    "plt.xlabel(\"threshold\")\n",
    "plt.savefig(\"./plots/f1_metric_experiment1.png\")"
   ]
  },
  {
   "attachments": {},
   "cell_type": "markdown",
   "metadata": {},
   "source": [
    "### В общем и целом, можно сказать, что результаты ни к чему не привели. Скорее всего проблема в выборке фотографий, которые могут быть очень плохие. Возможно, стоит руками выбрать фотографии для следующего теста т.к. фотографии могут быть очень плохого качества."
   ]
  },
  {
   "cell_type": "code",
   "execution_count": null,
   "metadata": {},
   "outputs": [],
   "source": []
  }
 ],
 "metadata": {
  "kernelspec": {
   "display_name": ".venv_analysis",
   "language": "python",
   "name": "python3"
  },
  "language_info": {
   "codemirror_mode": {
    "name": "ipython",
    "version": 3
   },
   "file_extension": ".py",
   "mimetype": "text/x-python",
   "name": "python",
   "nbconvert_exporter": "python",
   "pygments_lexer": "ipython3",
   "version": "3.10.9"
  },
  "orig_nbformat": 4,
  "vscode": {
   "interpreter": {
    "hash": "9eb54bcc54e8a5c773728bc7cb95efe037c8770045175b5b889852ce5bf713fd"
   }
  }
 },
 "nbformat": 4,
 "nbformat_minor": 2
}
